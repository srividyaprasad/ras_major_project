{
 "cells": [
  {
   "cell_type": "code",
   "execution_count": 1,
   "id": "d93689a8",
   "metadata": {
    "scrolled": true
   },
   "outputs": [],
   "source": [
    "import numpy as np\n",
    "import argparse\n",
    "import cv2 as cv\n",
    "import subprocess\n",
    "import time\n",
    "import os\n",
    "from yolo_utils import infer_image, show_image\n",
    "import Face_Rec as facer"
   ]
  },
  {
   "cell_type": "code",
   "execution_count": 2,
   "id": "00fc570f",
   "metadata": {},
   "outputs": [],
   "source": [
    "FLAGS = []\n",
    "\n",
    "if __name__ == '__main__':\n",
    "    parser = argparse.ArgumentParser()\n",
    "\n",
    "    parser.add_argument('-w', '--weights', default='./weights/yolov3.weights')\n",
    "\n",
    "    parser.add_argument('-cfg', '--config', default='./cfg/yolov3.cfg')\n",
    "\n",
    "    parser.add_argument('-l', '--labels',\n",
    "        default='./data/coco.names')\n",
    "\n",
    "    parser.add_argument('-c', '--confidence',\n",
    "        default=0.5)\n",
    "\n",
    "    parser.add_argument('-th', '--threshold',\n",
    "        default=0.3)\n",
    "\n",
    "    parser.add_argument('--download-model',\n",
    "        default=False)\n",
    "\n",
    "    parser.add_argument('-t', '--show-time',\n",
    "        default=False)\n",
    "\n",
    "    FLAGS, unparsed = parser.parse_known_args()\n",
    "\n",
    "\n",
    "# Get the labels\n",
    "    labels = open(FLAGS.labels).read().strip().split('\\n')\n",
    "\n",
    "# Intializing colors to represent each label uniquely\n",
    "    colors = np.random.randint(0, 255, size=(len(labels), 3), dtype='uint8')\n",
    "\n",
    "# Load the weights and configutation to form the pretrained YOLOv3 model\n",
    "    net = cv.dnn.readNetFromDarknet(FLAGS.config, FLAGS.weights)\n",
    "\n",
    "    # Get the output layer names of the model\n",
    "    layer_names = net.getLayerNames()\n",
    "    layer_names = [layer_names[i - 1] for i in net.getUnconnectedOutLayers()]\n",
    "    \n"
   ]
  },
  {
   "cell_type": "code",
   "execution_count": null,
   "id": "9adfecae",
   "metadata": {},
   "outputs": [],
   "source": [
    "# Infer real-time on webcam\n",
    "vid = cv.VideoCapture(0)\n",
    "count=0\n",
    "while True:\n",
    "            _, frame = vid.read()\n",
    "            \n",
    "            height, width = frame.shape[:2]\n",
    "\n",
    "            if count == 0:\n",
    "                frame, boxes, confidences, classids, idxs = infer_image(net, layer_names, \\\n",
    "                                    height, width, frame, colors, labels, FLAGS)\n",
    "                count += 1\n",
    "            else:\n",
    "                frame, boxes, confidences, classids, idxs = infer_image(net, layer_names, \\\n",
    "                                    height, width, frame, colors, labels, FLAGS, boxes, confidences, classids, idxs, infer=False)\n",
    "                count = (count + 1) % 6\n",
    "\n",
    "            cv.imshow('webcam', frame)\n",
    "\n",
    "            if cv.waitKey(1) & 0xFF == ord('q'):\n",
    "                break\n",
    "vid.release()\n",
    "cv.destroyAllWindows()"
   ]
  },
  {
   "cell_type": "code",
   "execution_count": null,
   "id": "3aec1a26",
   "metadata": {},
   "outputs": [],
   "source": []
  }
 ],
 "metadata": {
  "kernelspec": {
   "display_name": "Python 3 (ipykernel)",
   "language": "python",
   "name": "python3"
  },
  "language_info": {
   "codemirror_mode": {
    "name": "ipython",
    "version": 3
   },
   "file_extension": ".py",
   "mimetype": "text/x-python",
   "name": "python",
   "nbconvert_exporter": "python",
   "pygments_lexer": "ipython3",
   "version": "3.9.7"
  }
 },
 "nbformat": 4,
 "nbformat_minor": 5
}
